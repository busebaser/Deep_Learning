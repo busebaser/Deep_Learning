{
 "cells": [
  {
   "cell_type": "markdown",
   "metadata": {},
   "source": [
    "# **Creating RNN model using Keras IMDB dataset**"
   ]
  },
  {
   "cell_type": "markdown",
   "metadata": {},
   "source": [
    "**Loading the dataset and applying padding**"
   ]
  },
  {
   "cell_type": "code",
   "execution_count": 1,
   "metadata": {},
   "outputs": [
    {
     "name": "stderr",
     "output_type": "stream",
     "text": [
      "C:\\Users\\Buse\\AppData\\Local\\Temp\\ipykernel_27720\\1951142177.py:13: DeprecationWarning: `import kerastuner` is deprecated, please use `import keras_tuner`.\n",
      "  import kerastuner as kt\n"
     ]
    }
   ],
   "source": [
    "import numpy as np\n",
    "import matplotlib.pyplot as plt\n",
    "import tensorflow as tf\n",
    "\n",
    "from tensorflow.keras.datasets import imdb\n",
    "from tensorflow.keras.preprocessing.sequence import pad_sequences\n",
    "from tensorflow.keras.models import Sequential\n",
    "from tensorflow.keras.layers import Embedding, SimpleRNN, Dense, Dropout\n",
    "from tensorflow.keras.callbacks import EarlyStopping\n",
    "\n",
    "from sklearn.metrics import classification_report, roc_curve, auc\n",
    "\n",
    "import kerastuner as kt\n",
    "from kerastuner.tuners import RandomSearch\n",
    "\n",
    "import warnings\n",
    "warnings.filterwarnings(\"ignore\")"
   ]
  },
  {
   "cell_type": "code",
   "execution_count": 2,
   "metadata": {},
   "outputs": [],
   "source": [
    "# 0 -> negative comment, 1 -> positive comment\n",
    "(x_train, y_train),(x_test, y_test) = imdb.load_data(num_words= 10000) # Most common used 10000 words.\n",
    "\n",
    "# Data Preprocessing : Padding method is used to make comments the same length.\n",
    "maxlen = 100\n",
    "x_train = pad_sequences(x_train, maxlen=maxlen)\n",
    "x_test = pad_sequences(x_test, maxlen=maxlen)"
   ]
  },
  {
   "cell_type": "markdown",
   "metadata": {},
   "source": [
    "**Creating and compiling the RNN Model**"
   ]
  },
  {
   "cell_type": "code",
   "execution_count": 3,
   "metadata": {},
   "outputs": [],
   "source": [
    "# hp : hyperparameter\n",
    "def build_model(hp) : \n",
    "    model = Sequential() # base model\n",
    "    \n",
    "    # Embedding layer :  Turns words into vectors.\n",
    "    model.add(Embedding(input_dim=10000,\n",
    "                        output_dim = hp.Int(\"embedding_output\" , min_value=32, max_value = 256, step =32),\n",
    "                        input_length = maxlen))\n",
    "    # SimpleRNN \n",
    "    model.add(SimpleRNN(units= hp.Int(\"rnn_units\", min_value=32, max_value =256, step=32)))\n",
    "    # Dropout Layer : Prevents overfitting\n",
    "    model.add(Dropout(rate= hp.Float(\"dropout_rate\",min_value = 0.25, max_value = 1, step=0.25))) # 0.25, 0.50, 0.75, 1\n",
    "    # Output Layer : 1 cell and sigmoid func.\n",
    "    model.add(Dense(1,activation=\"sigmoid\")) # Sigmoid activation func is used for binary classification. The output of sigmoid is between 0-1.\n",
    "    \n",
    "    model.compile(optimizer = hp.Choice(\"optimizer\", [\"adam\", \"rmsprop\"]), # adam or rmsprop can be used.\n",
    "                  loss = \"binary_crossentropy\", # the loss function is used for binary classification\n",
    "                  metrics = [\"accuracy\", \"AUC\"]\n",
    "                  )\n",
    "    return model"
   ]
  },
  {
   "cell_type": "markdown",
   "metadata": {},
   "source": [
    "**Hyperparameter Search and Training the Model**"
   ]
  },
  {
   "cell_type": "code",
   "execution_count": null,
   "metadata": {},
   "outputs": [
    {
     "name": "stdout",
     "output_type": "stream",
     "text": [
      "Trial 5 Complete [00h 00m 56s]\n",
      "val_loss: 0.42533618211746216\n",
      "\n",
      "Best val_loss So Far: 0.42533618211746216\n",
      "Total elapsed time: 00h 06m 28s\n"
     ]
    }
   ],
   "source": [
    "tuner = RandomSearch(\n",
    "    build_model, # model function to be optimized\n",
    "    objective= \"val_loss\", # It looks at validation loss, lowest is best.\n",
    "    max_trials=5, # trying 5 different models\n",
    "    executions_per_trial = 1,\n",
    "    directory = \"rnn_tuner_directory\",\n",
    "    project_name = \"imdb_rnn\" # project name\n",
    ")\n",
    "\n",
    "early_stopping = EarlyStopping(monitor=\"val_loss\", patience=3, restore_best_weights=True)\n",
    "\n",
    "# Training \n",
    "tuner.search(x_train, y_train,\n",
    "            epochs = 10,\n",
    "            validation_split = 0.2,\n",
    "            callbacks = [early_stopping])"
   ]
  },
  {
   "cell_type": "markdown",
   "metadata": {},
   "source": [
    "**Evaluating the best Model**"
   ]
  },
  {
   "cell_type": "code",
   "execution_count": 5,
   "metadata": {},
   "outputs": [
    {
     "name": "stdout",
     "output_type": "stream",
     "text": [
      "\u001b[1m782/782\u001b[0m \u001b[32m━━━━━━━━━━━━━━━━━━━━\u001b[0m\u001b[37m\u001b[0m \u001b[1m4s\u001b[0m 5ms/step - AUC: 0.8849 - accuracy: 0.8081 - loss: 0.4278\n",
      "Test Loss : 0.426\n",
      "Test Accuracy : 0.809\n",
      "Test AUC : 0.886\n"
     ]
    }
   ],
   "source": [
    "best_model = tuner.get_best_models(num_models=1)[0] \n",
    "\n",
    "# Testing by using the best model\n",
    "loss, accuracy, auc_score = best_model.evaluate(x_test,y_test)\n",
    "print(f\"Test Loss : {loss:.3f}\\nTest Accuracy : {accuracy:.3f}\\nTest AUC : {auc_score:.3f}\")\n"
   ]
  },
  {
   "cell_type": "code",
   "execution_count": null,
   "metadata": {},
   "outputs": [
    {
     "name": "stdout",
     "output_type": "stream",
     "text": [
      "\u001b[1m782/782\u001b[0m \u001b[32m━━━━━━━━━━━━━━━━━━━━\u001b[0m\u001b[37m\u001b[0m \u001b[1m4s\u001b[0m 4ms/step\n",
      "              precision    recall  f1-score   support\n",
      "\n",
      "           0       0.80      0.83      0.81     12500\n",
      "           1       0.82      0.79      0.81     12500\n",
      "\n",
      "    accuracy                           0.81     25000\n",
      "   macro avg       0.81      0.81      0.81     25000\n",
      "weighted avg       0.81      0.81      0.81     25000\n",
      "\n"
     ]
    }
   ],
   "source": [
    "y_pred_prob = best_model.predict(x_test)\n",
    "y_pred = (y_pred_prob > 0.5).astype(\"int32\") #  If estimated values ​​are greater than 0.5, they are rounded to 1. So it is considered positive.\n",
    "\n",
    "print(classification_report(y_test, y_pred))\n"
   ]
  },
  {
   "cell_type": "code",
   "execution_count": null,
   "metadata": {},
   "outputs": [
    {
     "data": {
      "image/png": "[encoded data removed]",
      "text/plain": [
       "<Figure size 640x480 with 1 Axes>"
      ]
     },
     "metadata": {},
     "output_type": "display_data"
    }
   ],
   "source": [
    "# Calculating ROC Curve\n",
    "fpr, tpr,_ = roc_curve(y_test, y_pred_prob) #  False Positive Rate and True Positive Rate\n",
    "roc_auc = auc(fpr,tpr) # The area under the Roc curve is calculated. The closer to 1 the better.\n",
    "\n",
    "# Visualizing the Roc Curve\n",
    "plt.figure()\n",
    "plt.plot(fpr, tpr, color= \"darkorange\", lw=2, label = \"ROC Curve (area = %0.2f)\" % roc_auc)\n",
    "plt.plot([0,1], [0,1], color = \"blue\" , lw=2, linestyle=\"--\") \n",
    "plt.xlim([0,1])\n",
    "plt.ylim([0,1.05])\n",
    "plt.xlabel(\"FPR\")\n",
    "plt.ylabel(\"TPR\")\n",
    "plt.title(\"Receiver Operating Characterictis (ROC) Curve\")\n",
    "plt.legend()\n",
    "plt.show()"
   ]
  }
 ],
 "metadata": {
  "kernelspec": {
   "display_name": "tensorflow_env",
   "language": "python",
   "name": "python3"
  },
  "language_info": {
   "codemirror_mode": {
    "name": "ipython",
    "version": 3
   },
   "file_extension": ".py",
   "mimetype": "text/x-python",
   "name": "python",
   "nbconvert_exporter": "python",
   "pygments_lexer": "ipython3",
   "version": "3.12.1"
  }
 },
 "nbformat": 4,
 "nbformat_minor": 2
}
